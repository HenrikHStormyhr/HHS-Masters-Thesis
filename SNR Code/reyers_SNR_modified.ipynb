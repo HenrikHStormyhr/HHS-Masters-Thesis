{
 "cells": [
  {
   "cell_type": "markdown",
   "metadata": {},
   "source": [
    "# Comment by HHS:\n",
    "# Only small changes were made to reyers code to specify the correct paths for my project.\n",
    "# It was also moved over to a jupyter notebook because of my personal preference."
   ]
  },
  {
   "cell_type": "code",
   "execution_count": 3,
   "metadata": {},
   "outputs": [],
   "source": [
    "import wave, struct, os, math\n",
    "import numpy as np\n",
    "import pandas as pd\n",
    "from tqdm import tqdm"
   ]
  },
  {
   "cell_type": "code",
   "execution_count": 4,
   "metadata": {},
   "outputs": [],
   "source": [
    "def load_samples(path: str) -> any:\n",
    "    with wave.open(path, 'rb') as audio:\n",
    "        frames = audio.getnframes()\n",
    "        frame_bytes = audio.readframes(frames)\n",
    "        samples = [ struct.unpack(\"<h\", frame_bytes[(i):(2+i)]) for i in range(0, frames, 2) ] \n",
    "        return np.array(samples)\n"
   ]
  },
  {
   "cell_type": "code",
   "execution_count": 5,
   "metadata": {},
   "outputs": [],
   "source": [
    "def compute_mse(original: np.ndarray, changed: np.ndarray):\n",
    "    assert len(original) == len(changed)\n",
    "    n = len(original)\n",
    "    data = (original - changed) ** 2\n",
    "    return (sum(data) / n)[0]"
   ]
  },
  {
   "cell_type": "code",
   "execution_count": 6,
   "metadata": {},
   "outputs": [],
   "source": [
    "def compute_snr(original: np.ndarray, mse: int):\n",
    "    n = len(original)\n",
    "    data = original ** 2\n",
    "    signal = (sum(data)[0] / n)\n",
    "    return 10 * math.log10(signal / mse)"
   ]
  },
  {
   "cell_type": "code",
   "execution_count": 7,
   "metadata": {},
   "outputs": [],
   "source": [
    "def compute_method_transparency(base_url, method_name, original_url):\n",
    "    data = list()\n",
    "\n",
    "    for file in tqdm(os.listdir(original_url), f'[*] Computing perceptual transparency for {method_name}'):\n",
    "        original_samples = load_samples(original_url+file)\n",
    "        stego_samples = load_samples(base_url+'/'+file)\n",
    "\n",
    "        genre = file.split('.')[0]\n",
    "\n",
    "        mse = compute_mse(original_samples, stego_samples)\n",
    "        snr = compute_snr(original_samples, mse)\n",
    "\n",
    "        data.append([file, genre, mse, snr])\n",
    "    \n",
    "    df = pd.DataFrame(data, columns=['File', 'Genre', 'MSE', 'SNR'])\n",
    "    return df"
   ]
  },
  {
   "cell_type": "code",
   "execution_count": 24,
   "metadata": {},
   "outputs": [],
   "source": [
    "def compute_transparency():\n",
    "    # Steghide\n",
    "    #df = compute_method_transparency('audio/steghide16hz', 'steghide', original_url='audio/steg4pgpref16hz/')\n",
    "    #df.to_csv('results/perceptual_transparency_steghide.csv')\n",
    "\n",
    "    # Hide4PGP\n",
    "    #df = compute_method_transparency('audio/hide4pgp16hz', 'hide4pgp', original_url='audio/steg4pgpref16hz/')\n",
    "    #df.to_csv('results/perceptual_transparency_hide4pgp.csv')\n",
    "\n",
    "    # GAN High\n",
    "    #df = compute_method_transparency('audio/ganhigh44hz', 'ganhigh', original_url='audio/ganref44hz/')\n",
    "    #df.to_csv('results/perceptual_transparency_ganhigh.csv')\n",
    "\n",
    "    # Gan Low\n",
    "    df = compute_method_transparency('audio/ganlow44hz', 'ganlow', original_url='audio/ganref44hz/')\n",
    "    df.to_csv('results/perceptual_transparency_ganlow.csv')"
   ]
  },
  {
   "cell_type": "code",
   "execution_count": 25,
   "metadata": {},
   "outputs": [
    {
     "name": "stderr",
     "output_type": "stream",
     "text": [
      "[*] Computing perceptual transparency for ganlow: 100%|██████████| 8/8 [00:02<00:00,  3.42it/s]\n"
     ]
    }
   ],
   "source": [
    "compute_transparency()"
   ]
  }
 ],
 "metadata": {
  "kernelspec": {
   "display_name": "base",
   "language": "python",
   "name": "python3"
  },
  "language_info": {
   "codemirror_mode": {
    "name": "ipython",
    "version": 3
   },
   "file_extension": ".py",
   "mimetype": "text/x-python",
   "name": "python",
   "nbconvert_exporter": "python",
   "pygments_lexer": "ipython3",
   "version": "3.12.3"
  }
 },
 "nbformat": 4,
 "nbformat_minor": 2
}
